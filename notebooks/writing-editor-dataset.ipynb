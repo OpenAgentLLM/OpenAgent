{
 "cells": [
  {
   "cell_type": "code",
   "execution_count": 2,
   "metadata": {},
   "outputs": [
    {
     "name": "stderr",
     "output_type": "stream",
     "text": [
      "Downloading builder script: 100%|██████████| 35.9k/35.9k [00:00<00:00, 13.5MB/s]\n",
      "Downloading metadata: 100%|██████████| 30.4k/30.4k [00:00<00:00, 25.1MB/s]\n",
      "Downloading readme: 100%|██████████| 16.3k/16.3k [00:00<00:00, 18.7MB/s]\n"
     ]
    },
    {
     "name": "stdout",
     "output_type": "stream",
     "text": [
      "Downloading and preparing dataset wikipedia/20220301.simple to /home/vscode/.cache/huggingface/datasets/wikipedia/20220301.simple/2.0.0/aa542ed919df55cc5d3347f42dd4521d05ca68751f50dbc32bae2a7f1e167559...\n"
     ]
    },
    {
     "name": "stderr",
     "output_type": "stream",
     "text": [
      "Downloading: 100%|██████████| 1.66k/1.66k [00:00<00:00, 5.10MB/s]\n",
      "Downloading: 100%|██████████| 235M/235M [00:03<00:00, 61.0MB/s] \n"
     ]
    },
    {
     "name": "stdout",
     "output_type": "stream",
     "text": [
      "Dataset wikipedia downloaded and prepared to /home/vscode/.cache/huggingface/datasets/wikipedia/20220301.simple/2.0.0/aa542ed919df55cc5d3347f42dd4521d05ca68751f50dbc32bae2a7f1e167559. Subsequent calls will reuse this data.\n"
     ]
    },
    {
     "name": "stderr",
     "output_type": "stream",
     "text": [
      "100%|██████████| 1/1 [00:00<00:00, 331.43it/s]\n"
     ]
    }
   ],
   "source": [
    "from datasets import load_dataset\n",
    "import pandas as pd\n",
    "\n",
    "dataset = load_dataset(\"wikipedia\", \"20220301.simple\")\n",
    "\n",
    "# Convert to pandas DataFrame and save to CSV\n",
    "df = pd.DataFrame(dataset['train'])\n",
    "# df.to_csv('wikipedia_dataset.csv', index=False)"
   ]
  },
  {
   "cell_type": "code",
   "execution_count": 6,
   "metadata": {},
   "outputs": [
    {
     "data": {
      "text/plain": [
       "{'train': 0}"
      ]
     },
     "execution_count": 6,
     "metadata": {},
     "output_type": "execute_result"
    }
   ],
   "source": [
    "dataset.cleanup_cache_files()"
   ]
  },
  {
   "cell_type": "code",
   "execution_count": 14,
   "metadata": {},
   "outputs": [
    {
     "data": {
      "text/html": [
       "<div>\n",
       "<style scoped>\n",
       "    .dataframe tbody tr th:only-of-type {\n",
       "        vertical-align: middle;\n",
       "    }\n",
       "\n",
       "    .dataframe tbody tr th {\n",
       "        vertical-align: top;\n",
       "    }\n",
       "\n",
       "    .dataframe thead th {\n",
       "        text-align: right;\n",
       "    }\n",
       "</style>\n",
       "<table border=\"1\" class=\"dataframe\">\n",
       "  <thead>\n",
       "    <tr style=\"text-align: right;\">\n",
       "      <th></th>\n",
       "      <th>text</th>\n",
       "      <th>length</th>\n",
       "    </tr>\n",
       "  </thead>\n",
       "  <tbody>\n",
       "    <tr>\n",
       "      <th>0</th>\n",
       "      <td>April is the fourth month of the year in the J...</td>\n",
       "      <td>15966</td>\n",
       "    </tr>\n",
       "    <tr>\n",
       "      <th>1</th>\n",
       "      <td>August (Aug.) is the eighth month of the year ...</td>\n",
       "      <td>9415</td>\n",
       "    </tr>\n",
       "    <tr>\n",
       "      <th>2</th>\n",
       "      <td>Art is a creative activity that expresses imag...</td>\n",
       "      <td>5649</td>\n",
       "    </tr>\n",
       "    <tr>\n",
       "      <th>3</th>\n",
       "      <td>A or a is the first letter of the English alph...</td>\n",
       "      <td>1717</td>\n",
       "    </tr>\n",
       "    <tr>\n",
       "      <th>4</th>\n",
       "      <td>Air refers to the Earth's atmosphere. Air is a...</td>\n",
       "      <td>2987</td>\n",
       "    </tr>\n",
       "    <tr>\n",
       "      <th>...</th>\n",
       "      <td>...</td>\n",
       "      <td>...</td>\n",
       "    </tr>\n",
       "    <tr>\n",
       "      <th>205323</th>\n",
       "      <td>Noticiero Univision is the flagship daily even...</td>\n",
       "      <td>208</td>\n",
       "    </tr>\n",
       "    <tr>\n",
       "      <th>205324</th>\n",
       "      <td>Bachchhan Paandey is an upcoming Indian Hindi-...</td>\n",
       "      <td>994</td>\n",
       "    </tr>\n",
       "    <tr>\n",
       "      <th>205325</th>\n",
       "      <td>In recreational math, a repdigit or a monodigi...</td>\n",
       "      <td>1606</td>\n",
       "    </tr>\n",
       "    <tr>\n",
       "      <th>205326</th>\n",
       "      <td>Lady in a Cage is a 1964 American psychologica...</td>\n",
       "      <td>455</td>\n",
       "    </tr>\n",
       "    <tr>\n",
       "      <th>205327</th>\n",
       "      <td>Nakhchivan is one of the oldest cities in Azer...</td>\n",
       "      <td>17800</td>\n",
       "    </tr>\n",
       "  </tbody>\n",
       "</table>\n",
       "<p>205328 rows × 2 columns</p>\n",
       "</div>"
      ],
      "text/plain": [
       "                                                     text  length\n",
       "0       April is the fourth month of the year in the J...   15966\n",
       "1       August (Aug.) is the eighth month of the year ...    9415\n",
       "2       Art is a creative activity that expresses imag...    5649\n",
       "3       A or a is the first letter of the English alph...    1717\n",
       "4       Air refers to the Earth's atmosphere. Air is a...    2987\n",
       "...                                                   ...     ...\n",
       "205323  Noticiero Univision is the flagship daily even...     208\n",
       "205324  Bachchhan Paandey is an upcoming Indian Hindi-...     994\n",
       "205325  In recreational math, a repdigit or a monodigi...    1606\n",
       "205326  Lady in a Cage is a 1964 American psychologica...     455\n",
       "205327  Nakhchivan is one of the oldest cities in Azer...   17800\n",
       "\n",
       "[205328 rows x 2 columns]"
      ]
     },
     "execution_count": 14,
     "metadata": {},
     "output_type": "execute_result"
    }
   ],
   "source": [
    "# df['text']\n",
    "# Render as full table in jupyter notebook with only text column\n",
    "# df[['text']]\n",
    "# Add column with length of text\n",
    "df['length'] = df['text'].str.len()\n",
    "df[['text', 'length']]"
   ]
  },
  {
   "cell_type": "code",
   "execution_count": 16,
   "metadata": {},
   "outputs": [
    {
     "name": "stderr",
     "output_type": "stream",
     "text": [
      "None of PyTorch, TensorFlow >= 2.0, or Flax have been found. Models won't be available and only tokenizers, configuration and file/data utilities can be used.\n",
      "Downloading (…)okenizer_config.json: 100%|██████████| 700/700 [00:00<00:00, 2.96MB/s]\n",
      "Downloading tokenizer.model: 100%|██████████| 500k/500k [00:00<00:00, 112MB/s]\n",
      "Downloading (…)/main/tokenizer.json: 100%|██████████| 1.84M/1.84M [00:00<00:00, 118MB/s]\n",
      "Downloading (…)cial_tokens_map.json: 100%|██████████| 411/411 [00:00<00:00, 1.36MB/s]\n"
     ]
    }
   ],
   "source": [
    "# Get tokenizer\n",
    "from transformers import AutoTokenizer\n",
    "\n",
    "# huggyllama/llama-7b\n",
    "model_name = \"huggyllama/llama-7b\"\n",
    "tokenizer = AutoTokenizer.from_pretrained(model_name)\n"
   ]
  },
  {
   "cell_type": "code",
   "execution_count": 1,
   "metadata": {},
   "outputs": [
    {
     "ename": "NameError",
     "evalue": "name 'df' is not defined",
     "output_type": "error",
     "traceback": [
      "\u001b[0;31m---------------------------------------------------------------------------\u001b[0m",
      "\u001b[0;31mNameError\u001b[0m                                 Traceback (most recent call last)",
      "Cell \u001b[0;32mIn[1], line 4\u001b[0m\n\u001b[1;32m      1\u001b[0m \u001b[39m# Remove text that is too long or short\u001b[39;00m\n\u001b[1;32m      2\u001b[0m \u001b[39m# too long characters = 1024*4 = 4096\u001b[39;00m\n\u001b[1;32m      3\u001b[0m \u001b[39m# too short characters = 128\u001b[39;00m\n\u001b[0;32m----> 4\u001b[0m df \u001b[39m=\u001b[39m df[(df[\u001b[39m'\u001b[39m\u001b[39mlength\u001b[39m\u001b[39m'\u001b[39m] \u001b[39m<\u001b[39m \u001b[39m4096\u001b[39m) \u001b[39m&\u001b[39m (df[\u001b[39m'\u001b[39m\u001b[39mlength\u001b[39m\u001b[39m'\u001b[39m] \u001b[39m>\u001b[39m \u001b[39m128\u001b[39m)]\n\u001b[1;32m      5\u001b[0m df\n",
      "\u001b[0;31mNameError\u001b[0m: name 'df' is not defined"
     ]
    }
   ],
   "source": [
    "# Remove text that is too long or short\n",
    "# too long characters = 1024*4 = 4096\n",
    "# too short characters = 128\n",
    "df = df[(df['length'] < 4096) & (df['length'] > 128)]\n",
    "df\n"
   ]
  },
  {
   "cell_type": "code",
   "execution_count": 20,
   "metadata": {},
   "outputs": [
    {
     "ename": "",
     "evalue": "",
     "output_type": "error",
     "traceback": [
      "\u001b[1;31mCannot execute code, session has been disposed. Please try restarting the Kernel."
     ]
    },
    {
     "ename": "",
     "evalue": "",
     "output_type": "error",
     "traceback": [
      "\u001b[1;31mThe Kernel crashed while executing code in the the current cell or a previous cell. Please review the code in the cell(s) to identify a possible cause of the failure. Click <a href='https://aka.ms/vscodeJupyterKernelCrash'>here</a> for more info. View Jupyter <a href='command:jupyter.viewOutput'>log</a> for further details."
     ]
    }
   ],
   "source": [
    "# def get_token_length(text):\n",
    "#     return len(tokenizer(text, truncation=True, max_length=1024)['input_ids'])\n",
    "\n",
    "# # Add token length column\n",
    "# df['token_length'] = df['text'].apply(get_token_length)\n",
    "# df[['text', 'length', 'token_length']]\n",
    "\n",
    "def get_token_lengths(texts):\n",
    "    return [len(t['input_ids']) for t in tokenizer(texts, truncation=True, max_length=1024, padding=False, return_tensors='pt').encodings]\n",
    "\n",
    "# Add token length column\n",
    "df['token_length'] = get_token_lengths(df['text'].tolist())\n",
    "df[['text', 'length', 'token_length']]\n"
   ]
  },
  {
   "cell_type": "code",
   "execution_count": null,
   "metadata": {},
   "outputs": [],
   "source": []
  }
 ],
 "metadata": {
  "kernelspec": {
   "display_name": "OpenAgent-2wboklOQ",
   "language": "python",
   "name": "python3"
  },
  "language_info": {
   "codemirror_mode": {
    "name": "ipython",
    "version": 3
   },
   "file_extension": ".py",
   "mimetype": "text/x-python",
   "name": "python",
   "nbconvert_exporter": "python",
   "pygments_lexer": "ipython3",
   "version": "3.9.17"
  },
  "orig_nbformat": 4
 },
 "nbformat": 4,
 "nbformat_minor": 2
}
